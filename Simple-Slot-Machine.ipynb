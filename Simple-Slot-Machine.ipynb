{
 "cells": [
  {
   "cell_type": "code",
   "execution_count": 1,
   "id": "e8a34c57-e82d-452d-b55e-5e55d6de2f58",
   "metadata": {},
   "outputs": [],
   "source": [
    "#Load library\n",
    "from random import randint"
   ]
  },
  {
   "cell_type": "code",
   "execution_count": 2,
   "id": "94126505-9814-43b5-8ab9-84c9c2089bb1",
   "metadata": {},
   "outputs": [],
   "source": [
    "#Constants:\n",
    "MENUS_OPTIONS = \"Choose one of the following menus options:\\n1) Play the slot machine.\\n2) Save game.\\n3) Cash out.\"\n",
    "OPTIONS = ['1', '2', '3']"
   ]
  },
  {
   "cell_type": "code",
   "execution_count": 3,
   "id": "a582cde5-f332-481e-9d89-d0bb49c83033",
   "metadata": {},
   "outputs": [],
   "source": [
    "#Define function read_money_data\n",
    "def read_money_data():\n",
    "  # read money from players saved\n",
    "  try :\n",
    "    file = open(\"money_data.txt\",'r')\n",
    "    money_data = file.read()\n",
    "    file.close()\n",
    "    money_data = float(money_data)\n",
    "    return money_data\n",
    "  # if no data saved returns 10$\n",
    "  except:\n",
    "    return 10"
   ]
  },
  {
   "cell_type": "code",
   "execution_count": 4,
   "id": "e8c20305-df96-4b4a-b5f9-894179c27963",
   "metadata": {},
   "outputs": [],
   "source": [
    "#Define function ask_player\n",
    "def ask_player(money):\n",
    "  #Check input of Player\n",
    "  while True:\n",
    "    print(\"You have $\"+ str(money))\n",
    "    print(MENUS_OPTIONS)\n",
    "    player_option = input()\n",
    "    if player_option in OPTIONS:\n",
    "      break\n",
    "  return player_option"
   ]
  },
  {
   "cell_type": "code",
   "execution_count": 5,
   "id": "53177dbb-db7e-4d81-8d84-48c1d153ff0d",
   "metadata": {},
   "outputs": [],
   "source": [
    "#Define function play_game\n",
    "def play_game(money):\n",
    "  money = money - 0.25\n",
    "  machine_number = randint(0,999)\n",
    "  print(\"The slot machine shows \" + str(machine_number).zfill(3) + \".\")\n",
    "  a = machine_number // 100\n",
    "  b = (machine_number // 10) % 10\n",
    "  c = machine_number % 10\n",
    "  if a != b and a != c and b != c:\n",
    "    print(\"Sorry you don't won anything.\")\n",
    "  elif a == b == c:\n",
    "    money = money + 10\n",
    "    print(\"You won the big prize, $10.00!\")\n",
    "  else:\n",
    "    money = money + 0.5\n",
    "    print(\"You win 50 cent!\")\n",
    "  #End if-elif-else\n",
    "  return money"
   ]
  },
  {
   "cell_type": "code",
   "execution_count": 6,
   "id": "51e7abcd-9086-4605-ba1c-6a3345d77b13",
   "metadata": {},
   "outputs": [],
   "source": [
    "#Define function save_game\n",
    "def save_game(money):\n",
    "  file = open(\"money_data.txt\",\"w\")\n",
    "  file.write(str(money))\n",
    "  file.close\n",
    "  print(\"save game successfull. Thanks for playing game \")"
   ]
  },
  {
   "cell_type": "code",
   "execution_count": 7,
   "id": "b31c0fa6-2275-4a35-8a0f-fce2360f40cf",
   "metadata": {},
   "outputs": [],
   "source": [
    "#Define function cash_out\n",
    "def cash_out(money):\n",
    "  print(\"Cash out \" + str(money) + \" $ successfull. Thanks for playing game\")\n",
    "  file = open(\"money_data.txt\", 'w')\n",
    "  file.write(\"10\")"
   ]
  },
  {
   "cell_type": "code",
   "execution_count": 8,
   "id": "6e7a57f6-b593-4aa7-bf60-dc10df110f6e",
   "metadata": {},
   "outputs": [],
   "source": [
    "#Main\n",
    "def main():\n",
    "  money = read_money_data()\n",
    "  while True:\n",
    "    \n",
    "    player_option = ask_player(money)\n",
    "\n",
    "    if player_option == '1':\n",
    "      money = play_game(money)\n",
    "      if money == 0 :\n",
    "        print(\"You have no money left. Thanks for playing game\")\n",
    "        break\n",
    "\n",
    "    if player_option == '2':\n",
    "      save_game(money)\n",
    "      break\n",
    "\n",
    "    if player_option == '3':\n",
    "      cash_out(money)\n",
    "      break"
   ]
  },
  {
   "cell_type": "code",
   "execution_count": 11,
   "id": "fcde3981-53b7-427f-a99a-ab977a3930a8",
   "metadata": {},
   "outputs": [
    {
     "name": "stdout",
     "output_type": "stream",
     "text": [
      "You have $10.0\n",
      "Choose one of the following menus options:\n",
      "1) Play the slot machine.\n",
      "2) Save game.\n",
      "3) Cash out.\n"
     ]
    },
    {
     "name": "stdin",
     "output_type": "stream",
     "text": [
      " 1\n"
     ]
    },
    {
     "name": "stdout",
     "output_type": "stream",
     "text": [
      "The slot machine shows 136.\n",
      "Sorry you don't won anything.\n",
      "You have $9.75\n",
      "Choose one of the following menus options:\n",
      "1) Play the slot machine.\n",
      "2) Save game.\n",
      "3) Cash out.\n"
     ]
    },
    {
     "name": "stdin",
     "output_type": "stream",
     "text": [
      " 1\n"
     ]
    },
    {
     "name": "stdout",
     "output_type": "stream",
     "text": [
      "The slot machine shows 698.\n",
      "Sorry you don't won anything.\n",
      "You have $9.5\n",
      "Choose one of the following menus options:\n",
      "1) Play the slot machine.\n",
      "2) Save game.\n",
      "3) Cash out.\n"
     ]
    },
    {
     "name": "stdin",
     "output_type": "stream",
     "text": [
      " 1\n"
     ]
    },
    {
     "name": "stdout",
     "output_type": "stream",
     "text": [
      "The slot machine shows 580.\n",
      "Sorry you don't won anything.\n",
      "You have $9.25\n",
      "Choose one of the following menus options:\n",
      "1) Play the slot machine.\n",
      "2) Save game.\n",
      "3) Cash out.\n"
     ]
    },
    {
     "name": "stdin",
     "output_type": "stream",
     "text": [
      " 1\n"
     ]
    },
    {
     "name": "stdout",
     "output_type": "stream",
     "text": [
      "The slot machine shows 837.\n",
      "Sorry you don't won anything.\n",
      "You have $9.0\n",
      "Choose one of the following menus options:\n",
      "1) Play the slot machine.\n",
      "2) Save game.\n",
      "3) Cash out.\n"
     ]
    },
    {
     "name": "stdin",
     "output_type": "stream",
     "text": [
      " 1\n"
     ]
    },
    {
     "name": "stdout",
     "output_type": "stream",
     "text": [
      "The slot machine shows 516.\n",
      "Sorry you don't won anything.\n",
      "You have $8.75\n",
      "Choose one of the following menus options:\n",
      "1) Play the slot machine.\n",
      "2) Save game.\n",
      "3) Cash out.\n"
     ]
    },
    {
     "name": "stdin",
     "output_type": "stream",
     "text": [
      " inter text\n"
     ]
    },
    {
     "name": "stdout",
     "output_type": "stream",
     "text": [
      "You have $8.75\n",
      "Choose one of the following menus options:\n",
      "1) Play the slot machine.\n",
      "2) Save game.\n",
      "3) Cash out.\n"
     ]
    },
    {
     "name": "stdin",
     "output_type": "stream",
     "text": [
      " text\n"
     ]
    },
    {
     "name": "stdout",
     "output_type": "stream",
     "text": [
      "You have $8.75\n",
      "Choose one of the following menus options:\n",
      "1) Play the slot machine.\n",
      "2) Save game.\n",
      "3) Cash out.\n"
     ]
    },
    {
     "name": "stdin",
     "output_type": "stream",
     "text": [
      " 2\n"
     ]
    },
    {
     "name": "stdout",
     "output_type": "stream",
     "text": [
      "save game successfull. Thanks for playing game \n"
     ]
    }
   ],
   "source": [
    "#Call main function\n",
    "main()"
   ]
  },
  {
   "cell_type": "code",
   "execution_count": 12,
   "id": "5b0d8c17-f570-4bd2-9d7d-aa39749796c6",
   "metadata": {},
   "outputs": [
    {
     "name": "stdout",
     "output_type": "stream",
     "text": [
      "You have $8.75\n",
      "Choose one of the following menus options:\n",
      "1) Play the slot machine.\n",
      "2) Save game.\n",
      "3) Cash out.\n"
     ]
    },
    {
     "name": "stdin",
     "output_type": "stream",
     "text": [
      " 1\n"
     ]
    },
    {
     "name": "stdout",
     "output_type": "stream",
     "text": [
      "The slot machine shows 082.\n",
      "Sorry you don't won anything.\n",
      "You have $8.5\n",
      "Choose one of the following menus options:\n",
      "1) Play the slot machine.\n",
      "2) Save game.\n",
      "3) Cash out.\n"
     ]
    },
    {
     "name": "stdin",
     "output_type": "stream",
     "text": [
      " 3\n"
     ]
    },
    {
     "name": "stdout",
     "output_type": "stream",
     "text": [
      "Cash out 8.5 $ successfull. Thanks for playing game\n"
     ]
    }
   ],
   "source": [
    "#Call main function\n",
    "main()"
   ]
  },
  {
   "cell_type": "code",
   "execution_count": 13,
   "id": "5b204910-7ada-4db2-909a-1d1516135bc4",
   "metadata": {},
   "outputs": [
    {
     "name": "stdout",
     "output_type": "stream",
     "text": [
      "You have $10.0\n",
      "Choose one of the following menus options:\n",
      "1) Play the slot machine.\n",
      "2) Save game.\n",
      "3) Cash out.\n"
     ]
    },
    {
     "name": "stdin",
     "output_type": "stream",
     "text": [
      " 1\n"
     ]
    },
    {
     "name": "stdout",
     "output_type": "stream",
     "text": [
      "The slot machine shows 515.\n",
      "You win 50 cent!\n",
      "You have $10.25\n",
      "Choose one of the following menus options:\n",
      "1) Play the slot machine.\n",
      "2) Save game.\n",
      "3) Cash out.\n"
     ]
    },
    {
     "name": "stdin",
     "output_type": "stream",
     "text": [
      " 1\n"
     ]
    },
    {
     "name": "stdout",
     "output_type": "stream",
     "text": [
      "The slot machine shows 050.\n",
      "You win 50 cent!\n",
      "You have $10.5\n",
      "Choose one of the following menus options:\n",
      "1) Play the slot machine.\n",
      "2) Save game.\n",
      "3) Cash out.\n"
     ]
    },
    {
     "name": "stdin",
     "output_type": "stream",
     "text": [
      " 3\n"
     ]
    },
    {
     "name": "stdout",
     "output_type": "stream",
     "text": [
      "Cash out 10.5 $ successfull. Thanks for playing game\n"
     ]
    }
   ],
   "source": [
    "#Call main function\n",
    "main()"
   ]
  },
  {
   "cell_type": "code",
   "execution_count": null,
   "id": "82319258-dde5-4e77-b831-15acfcf323fb",
   "metadata": {},
   "outputs": [],
   "source": []
  }
 ],
 "metadata": {
  "kernelspec": {
   "display_name": "Python 3 (ipykernel)",
   "language": "python",
   "name": "python3"
  },
  "language_info": {
   "codemirror_mode": {
    "name": "ipython",
    "version": 3
   },
   "file_extension": ".py",
   "mimetype": "text/x-python",
   "name": "python",
   "nbconvert_exporter": "python",
   "pygments_lexer": "ipython3",
   "version": "3.10.0"
  }
 },
 "nbformat": 4,
 "nbformat_minor": 5
}
